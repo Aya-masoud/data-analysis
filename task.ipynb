{
 "cells": [
  {
   "cell_type": "code",
   "execution_count": null,
   "id": "7a06d54b",
   "metadata": {},
   "outputs": [],
   "source": [
    "!pip install pymongo\n"
   ]
  },
  {
   "cell_type": "code",
   "execution_count": null,
   "id": "42308654",
   "metadata": {},
   "outputs": [],
   "source": [
    "from pymongo import MongoClient\n",
    "\n",
    "client = MongoClient(\"mongodb://localhost:27017/\")\n",
    "\n",
    "db = client[\"YourDatabaseName\"]\n",
    "\n",
    "collection = db[\"YourCollectionName\"]\n"
   ]
  },
  {
   "cell_type": "code",
   "execution_count": null,
   "id": "667c67bd",
   "metadata": {},
   "outputs": [],
   "source": [
    "\n",
    "for doc in collection.find():\n",
    "    print(doc)\n"
   ]
  },
  {
   "cell_type": "code",
   "execution_count": null,
   "id": "0f5f1b72",
   "metadata": {},
   "outputs": [],
   "source": [
    "import pandas as pd\n",
    "\n",
    "data = list(collection.find())\n",
    "\n",
    "df = pd.DataFrame(data)\n",
    "\n",
    "print(df.head())\n"
   ]
  },
  {
   "cell_type": "markdown",
   "id": "b8842ca0",
   "metadata": {},
   "source": [
    "What is vector Database"
   ]
  },
  {
   "cell_type": "markdown",
   "id": "9b86410b",
   "metadata": {},
   "source": [
    "A Vector Database is a specialized type of database designed to store, index, and search high-dimensional vectors (numeric representations of data like text, images, audio, etc.), typically used for similarity search and AI/ML applications."
   ]
  },
  {
   "cell_type": "code",
   "execution_count": null,
   "id": "e3661320",
   "metadata": {},
   "outputs": [],
   "source": []
  }
 ],
 "metadata": {
  "language_info": {
   "name": "python"
  }
 },
 "nbformat": 4,
 "nbformat_minor": 5
}
